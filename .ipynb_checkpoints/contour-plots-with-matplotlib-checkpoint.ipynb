{
 "cells": [
  {
   "cell_type": "markdown",
   "id": "743860b1-8c79-40e1-8bf8-6500adf409c5",
   "metadata": {},
   "source": [
    "## Contour Plots\n",
    "\n",
    "A contour plot is a graphical representation of a 3D object in 2D. It shows lines that connect points of equal value (also known as level curves). For example, for a function \\( $f(x, y) = x^2 + y^2$ \\), a contour plot would show curves where the function value is constant, giving a sense of the surface's shape. That is the contours will be defined by $C_n = x^2 + y^2$, where $C_n$ is the $n^{th}$ contour.\n",
    "\n",
    "In this notebook, we'll plot the 2D parabola \\( f(x, y) = x^2 + y^2 \\) using contour plots. We'll also cover how to customize and make this plot more informative and visually appealing.\n"
   ]
  },
  {
   "cell_type": "markdown",
   "id": "6a076ba3-a97c-4602-ad66-30381b955af0",
   "metadata": {},
   "source": [
    "### 1. Importing the necessary libraries\n",
    "\n",
    "Again, we will need `numpy` and `matplotlib`.\n"
   ]
  },
  {
   "cell_type": "code",
   "execution_count": null,
   "id": "2be06c9c-edd7-4e83-94a4-bb08b4ed34cd",
   "metadata": {},
   "outputs": [],
   "source": [
    "# Importing necessary libraries\n",
    "import numpy as np\n",
    "import matplotlib.pyplot as plt"
   ]
  },
  {
   "cell_type": "markdown",
   "id": "41f8783e-ab8f-48fa-afde-8b2a658c1fdb",
   "metadata": {},
   "source": [
    "### 2. Setting up the 2D Grid\n",
    "\n",
    "To create a contour plot, we need a grid of `x` and `y` values. We'll use `np.meshgrid()` to generate two 2D arrays: one for the `x` coordinates and one for the `y` coordinates. This allows us to evaluate the function \\( $f(x, y) = x^2 + y^2 $\\) at every point in the grid.\n",
    "\n",
    "We’ll use `np.linspace()` to generate a range of evenly spaced points for both `x` and `y`. These values will define the domain of the function.\n"
   ]
  },
  {
   "cell_type": "code",
   "execution_count": null,
   "id": "c261e8d1-0205-4acb-adc3-a1f7300ecfcc",
   "metadata": {},
   "outputs": [],
   "source": [
    "# Define the range for x and y values\n",
    "x = np.linspace(-5, 5, 5)\n",
    "y = np.linspace(-5, 5, 5)\n",
    "\n",
    "# Create a grid of x and y values\n",
    "X, Y = np.meshgrid(x, y)\n",
    "\n",
    "# Display the x, and y values, and the meshgrid and its shape\n",
    "print(\"x-values:\\n\", x)\n",
    "print(\"y-values:\\n\", y)\n",
    "print(\"\")\n",
    "print(\"Shape of X:\", X.shape)\n",
    "print(\"Shape of Y:\", Y.shape)\n",
    "print(\"\")\n",
    "print(\"Output of meshgrid for X:\\n\", X)\n",
    "print(\"Output of meshgrid for Y:\\n\", Y)"
   ]
  },
  {
   "cell_type": "markdown",
   "id": "70de6aa0-f8db-4a34-9c29-567c8526b864",
   "metadata": {},
   "source": [
    "### 3. Defining the 2D Parabola Function\n",
    "\n",
    "The equation of a 2D parabola is given by:\n",
    "\n",
    "\\[\n",
    "$f(x, y) = x^2 + y^2$\n",
    "\\]\n",
    "\n",
    "We will now calculate the `z` values for each pair of `x` and `y` values in the grid, which will represent the height of the parabola at each point.\n"
   ]
  },
  {
   "cell_type": "code",
   "execution_count": null,
   "id": "9cc1b850-3def-4f15-b2d0-6fe18ea9f9f3",
   "metadata": {},
   "outputs": [],
   "source": [
    "# Define the 2D parabola function\n",
    "Z = X**2 + Y**2\n",
    "\n",
    "# Display the Z array to confirm the values\n",
    "print(\"meshgrid for X:\\n\", X)\n",
    "print(\"meshgrid for Y:\\n\", Y)\n",
    "print(\"function called on X, Y values:\\n\", Z)\n"
   ]
  },
  {
   "cell_type": "code",
   "execution_count": null,
   "id": "c9dd1af7-9bee-493a-9bf9-7d3a02ac5232",
   "metadata": {},
   "outputs": [],
   "source": [
    "print(np.transpose([X.flatten(), Y.flatten(), Z.flatten()]))"
   ]
  },
  {
   "cell_type": "markdown",
   "id": "92a3968e-64be-4118-8e1a-32ea7ce569e8",
   "metadata": {},
   "source": [
    "### 4. Creating a Basic Contour Plot\n",
    "\n",
    "Let's now create a contour plot of the function \\( $f(x, y) = x^2 + y^2$ \\).\n",
    "\n",
    "We will:\n",
    "- Use `plt.contour()` for contour lines or `plt.contourf()` for filled contours.\n",
    "- Add a color bar to visually represent the function values.\n",
    "\n",
    "Note: \n",
    "- I am using the `'viridis'` `colormap`\n",
    "- You can see the colormaps available using `print(plt.colormaps())`\n",
    "- You can explore them at the [MatPlotLib Colormap Reference](https://matplotlib.org/stable/gallery/color/colormap_reference.html)"
   ]
  },
  {
   "cell_type": "code",
   "execution_count": null,
   "id": "8cd011f2-e1ec-4726-8e92-7b358a613458",
   "metadata": {},
   "outputs": [],
   "source": [
    "# Create the contour plot\n",
    "plt.figure(figsize=(6, 5))\n",
    "contour = plt.contour(X, Y, Z,\n",
    "                      levels=10,\n",
    "                      cmap='viridis')  # Use contour lines with 10 levels\n",
    "plt.colorbar(contour)  # Add a color bar\n",
    "plt.title('Contour Plot of $x^2 + y^2$')\n",
    "plt.xlabel('X-axis')\n",
    "plt.ylabel('Y-axis')\n",
    "\n",
    "# Show the plot\n",
    "plt.show()\n"
   ]
  },
  {
   "cell_type": "markdown",
   "id": "f360a69c-9905-415e-8938-36e559bc6dd7",
   "metadata": {},
   "source": [
    "We need more points to make this looks correct. Let's add them now."
   ]
  },
  {
   "cell_type": "code",
   "execution_count": null,
   "id": "db62d10a-e97a-4034-9de6-8c44614e2fcc",
   "metadata": {},
   "outputs": [],
   "source": [
    "# Define the range for x and y values\n",
    "x = np.linspace(-5, 5, 100)\n",
    "y = np.linspace(-5, 5, 100)\n",
    "\n",
    "# Create a grid of x and y values\n",
    "X, Y = np.meshgrid(x, y)\n",
    "\n",
    "# Define the 2D parabola function\n",
    "Z = X**2 + Y**2"
   ]
  },
  {
   "cell_type": "markdown",
   "id": "8e6722ed-18b7-415e-9c56-1b66fddd526c",
   "metadata": {},
   "source": [
    "Now we can replot the contour plot with the updated values"
   ]
  },
  {
   "cell_type": "code",
   "execution_count": null,
   "id": "275d8d5b-c6dd-44f9-a6aa-a8ce00ca4195",
   "metadata": {},
   "outputs": [],
   "source": [
    "# Create the contour plot\n",
    "plt.figure(figsize=(6, 5))\n",
    "contour = plt.contour(X, Y, Z,\n",
    "                      levels=10,\n",
    "                      cmap='viridis')  # Use contour lines with 10 levels\n",
    "plt.colorbar(contour)  # Add a color bar\n",
    "plt.title('Contour Plot of $x^2 + y^2$')\n",
    "plt.xlabel('X-axis')\n",
    "plt.ylabel('Y-axis')\n",
    "\n",
    "# Show the plot\n",
    "plt.show()"
   ]
  },
  {
   "cell_type": "markdown",
   "id": "41f179b2-c116-4853-a7a8-1f3407ed0fbb",
   "metadata": {},
   "source": [
    "### 5. Adding Labels and Titles\n",
    "\n",
    "To make the plot more informative, we will add:\n",
    "- **X-axis and Y-axis labels** to describe what each axis represents.\n",
    "- **A title** to give an overview of the plot’s content.\n",
    "- **A color bar label** to explain the range of values for the contour levels.\n",
    "\n",
    "We can do this using:\n",
    "- `plt.xlabel('label text')`: Adds a label to the X-axis.\n",
    "- `plt.ylabel('label text')`: Adds a label to the Y-axis.\n",
    "- `plt.title('title text')`: Adds a title to the plot.\n",
    "\n",
    "Here we use `plt.contourf` to make filled contours. \n"
   ]
  },
  {
   "cell_type": "code",
   "execution_count": null,
   "id": "72e7382d-0bff-4fe4-a41f-5e2db52235c3",
   "metadata": {},
   "outputs": [],
   "source": [
    "# Create the contour plot\n",
    "plt.figure(figsize=(6, 5))\n",
    "contour = plt.contourf(X, Y, Z, levels=10, cmap='viridis')  # Filled contour plot\n",
    "cbar = plt.colorbar(contour)  # Add a color bar\n",
    "cbar.set_label('Energy (arbitrary units)', fontsize=12)  # Label for the color bar\n",
    "\n",
    "# Add labels and title\n",
    "plt.title('Potential Energy of 2D Harmonic Oscillator', fontsize=14)\n",
    "plt.xlabel('X-dispalcement (arbitrary units', fontsize=12)\n",
    "plt.ylabel('Y-displacement (arbitrary units)', fontsize=12)\n",
    "\n",
    "# Show the plot\n",
    "plt.show()\n"
   ]
  },
  {
   "cell_type": "markdown",
   "id": "ba5b8b65-4842-4ddb-b51c-c8467eeeeed8",
   "metadata": {},
   "source": [
    "### 6. Customizing the Contour Plot\n",
    "\n",
    "There are several ways we can customize a contour plot to make it more informative and visually appealing:\n",
    "- **Contour Levels**: Control the number of contour levels using the `levels` argument.\n",
    "- **Colormap**: Customize the colormap using `cmap`.\n",
    "- **Line Styles**: For contour lines, adjust the line styles (solid, dashed, etc.) using `linestyles`.\n",
    "\n",
    "We can modify these properties to fit the needs of the plot.\n"
   ]
  },
  {
   "cell_type": "code",
   "execution_count": null,
   "id": "7ec5300f-b38a-45a0-982a-13b68ab9c2dd",
   "metadata": {},
   "outputs": [],
   "source": [
    "# Customizing the contour plot with more levels and a different colormap\n",
    "\n",
    "plt.figure(figsize=(6, 5))\n",
    "\n",
    "# Use contour lines instead of filled contours and increase the number of levels\n",
    "contour = plt.contour(X, Y, Z, levels=20, cmap='plasma', linestyles='--')  # Dashed lines with 20 levels\n",
    "cbar = plt.colorbar(contour)  # Add a color bar\n",
    "cbar.set_label('Energy (arbitrary units)', fontsize=12)  # Custom label for the color bar\n",
    "\n",
    "# Add labels and title\n",
    "plt.title('Potential Energy of 2D Harmonic Oscillator (Customized)', fontsize=14)\n",
    "plt.xlabel('X-displacement (arbitrary units)', fontsize=12)\n",
    "plt.ylabel('Y-displacement (arbitrary units)', fontsize=12)\n",
    "\n",
    "# Show the plot\n",
    "plt.show()\n"
   ]
  },
  {
   "cell_type": "markdown",
   "id": "10098eb3-4ff2-4026-b8e7-ff0743d65ee6",
   "metadata": {},
   "source": [
    "### 7. Adding Gridlines and Setting Axis Limits\n",
    "\n",
    "Gridlines can help make the plot more readable by providing reference points along the axes. Additionally, we can set limits on the x and y axes to zoom in or focus on a specific region of the plot.\n",
    "\n",
    "We will:\n",
    "- Add gridlines using `plt.grid(True)`.\n",
    "- Set the axis limits using `plt.xlim([xmin, xmax])` and `plt.ylim([ymin, ymax])`.\n"
   ]
  },
  {
   "cell_type": "code",
   "execution_count": null,
   "id": "fe0e6bf7-1832-4427-ad97-9a692c10f048",
   "metadata": {},
   "outputs": [],
   "source": [
    "# Customizing the plot with gridlines and axis limits\n",
    "\n",
    "plt.figure(figsize=(6, 5))\n",
    "\n",
    "# Create the contour plot with more levels and a different colormap\n",
    "contour = plt.contourf(X, Y, Z, levels=15, cmap='viridis')\n",
    "cbar = plt.colorbar(contour)\n",
    "cbar.set_label('Energy (arbitrary units)', fontsize=12)\n",
    "\n",
    "# Add labels and title\n",
    "plt.title('Potential Energy of 2D Harmonic Oscillator', fontsize=14)\n",
    "plt.xlabel('X-displacement (arbitrary units)', fontsize=12)\n",
    "plt.ylabel('Y-displacement (arbitrary units)', fontsize=12)\n",
    "\n",
    "# Add gridlines\n",
    "plt.grid(True)\n",
    "\n",
    "# Set axis limits\n",
    "plt.xlim([-4, 4])\n",
    "plt.ylim([-4, 4])\n",
    "\n",
    "# Show the plot\n",
    "plt.show()\n"
   ]
  },
  {
   "cell_type": "markdown",
   "id": "7796fddc-4a06-4c9c-9c4a-6b6a2a6ab0dc",
   "metadata": {},
   "source": [
    "### 8. Specifying Contours by Their Constant Value\n",
    "\n",
    "In some cases, you may want to specify exact contour levels instead of automatically generating them. You can provide a list of contour levels (constant values) directly in the `levels` argument.\n",
    "\n",
    "For example, if you want to display contours at specific function values (e.g., 1, 4, 9, 16, 25), you can pass these values in the `levels` argument.\n",
    "\n",
    "Additionally, you may want to have a contour labeled with its value. You can use `plt.clabel` to help with that.\n"
   ]
  },
  {
   "cell_type": "code",
   "execution_count": null,
   "id": "44667ec4-7306-4462-8643-1a1954033712",
   "metadata": {},
   "outputs": [],
   "source": [
    "# Specify constant contour values\n",
    "contour_levels = [0, 0.5, 1, 22, 25]  # Define the contour levels you want to display\n",
    "\n",
    "plt.figure(figsize=(5, 5))\n",
    "\n",
    "# Create the contour plot using the specified contour levels\n",
    "contour = plt.contour(X, Y, Z, levels=contour_levels, linestyles='--', linewidths=0.5, colors='red')\n",
    "\n",
    "# Add labels and title\n",
    "plt.title('Potential Energy of 2D Harmonic Oscillator', fontsize=14)\n",
    "plt.xlabel('X-displacement (arbitrary units)', fontsize=12)\n",
    "plt.ylabel('Y-displacement (arbitrary units)', fontsize=12)\n",
    "\n",
    "# Add labels to the contour lines\n",
    "plt.clabel(contour, inline=True, fontsize=10)  # fmt='%1.0f' ensures integer labels\n",
    "\n",
    "# Add gridlines\n",
    "plt.grid(True)\n",
    "\n",
    "# Set axis limits\n",
    "plt.xlim([-5.5, 5.5])\n",
    "plt.ylim([-5.5, 5.5])\n",
    "\n",
    "# Show the plot\n",
    "plt.show()\n"
   ]
  },
  {
   "cell_type": "markdown",
   "id": "03a0cf8c-fe19-4b74-a3cf-edc9c21e470d",
   "metadata": {},
   "source": [
    "### Creating a Reusable Contour Plot Function\n",
    "\n",
    "To make it easy to generate contour plots, we will wrap the functionality into a reusable Python function. This function will allow you to:\n",
    "- Plot contour lines for any function of `X` and `Y`.\n",
    "- Specify custom contour levels, line width, and color.\n",
    "- Add labels to contour lines.\n",
    "- Customize axis labels, title, gridlines, and axis limits.\n",
    "\n",
    "You can call this function with different data and parameters to generate contour plots quickly and consistently.\n"
   ]
  },
  {
   "cell_type": "code",
   "execution_count": null,
   "id": "b3214045-fc9e-4f6b-af72-8a9cc1406f6d",
   "metadata": {},
   "outputs": [],
   "source": [
    "def plot_contours(X, Y, Z, contour_levels, title='Contour Plot', xlabel='X-axis', ylabel='Y-axis',\n",
    "                  fill_color_map='viridis', line_color='black', line_width=1, add_labels=True, grid=True,\n",
    "                  xlim=None, ylim=None, add_colorbar=True, figsize=(6, 5)):\n",
    "    \"\"\"\n",
    "    Function to plot filled contour lines with optional superimposed labeled contours and an optional color bar.\n",
    "\n",
    "    Parameters:\n",
    "    - X, Y: 2D arrays for the grid points (from np.meshgrid)\n",
    "    - Z: 2D array of function values (e.g., f(x, y) = x^2 + y^2)\n",
    "    - contour_levels: List of contour levels to display\n",
    "    - title: Title of the plot\n",
    "    - xlabel: Label for the X-axis\n",
    "    - ylabel: Label for the Y-axis\n",
    "    - fill_color_map: Colormap for the filled contours (default is 'viridis')\n",
    "    - line_color: Color of the contour lines (default is black)\n",
    "    - line_width: Width of the contour lines (default is 1)\n",
    "    - add_labels: Whether to label the contour lines (default is True)\n",
    "    - grid: Whether to add gridlines (default is True)\n",
    "    - xlim: Tuple for x-axis limits (e.g., (-5, 5))\n",
    "    - ylim: Tuple for y-axis limits (e.g., (-5, 5))\n",
    "    - add_colorbar: Whether to add a color bar (default is True)\n",
    "    \"\"\"\n",
    "    plt.figure(figsize=figsize)\n",
    "    \n",
    "    # Create the filled contour plot with the specified color map\n",
    "    contour_filled = plt.contourf(X, Y, Z, levels=contour_levels, cmap=fill_color_map)\n",
    "    \n",
    "    # Optionally create the contour lines with specified levels, line color, and line width\n",
    "    if add_labels:\n",
    "        contour_lines = plt.contour(X, Y, Z, levels=contour_levels, colors=line_color, linewidths=line_width)\n",
    "        plt.clabel(contour_lines, inline=True, fontsize=10, fmt='%1.0f')\n",
    "    \n",
    "    # Add title and axis labels\n",
    "    plt.title(title, fontsize=14)\n",
    "    plt.xlabel(xlabel, fontsize=12)\n",
    "    plt.ylabel(ylabel, fontsize=12)\n",
    "    \n",
    "    # Optionally add a color bar to show the mapping of values to colors\n",
    "    if add_colorbar:\n",
    "        cbar = plt.colorbar(contour_filled)\n",
    "        cbar.set_label('Function value', fontsize=12)\n",
    "    \n",
    "    # Optionally add gridlines\n",
    "    if grid:\n",
    "        plt.grid(True)\n",
    "    \n",
    "    # Set axis limits if specified\n",
    "    if xlim:\n",
    "        plt.xlim(xlim)\n",
    "    if ylim:\n",
    "        plt.ylim(ylim)\n",
    "    \n",
    "    # Show the plot\n",
    "    plt.show()\n",
    "\n"
   ]
  },
  {
   "cell_type": "code",
   "execution_count": null,
   "id": "f5060da0-636f-4fcb-afc4-332c6e9b1b5d",
   "metadata": {},
   "outputs": [],
   "source": [
    "# Define contour levels\n",
    "contour_levels = [0, 1, 4, 9, 16, 25, 50]\n",
    "\n",
    "# Call the updated function to plot filled contours with labeled contour lines\n",
    "plot_contours(X, Y, Z, contour_levels, title='', \n",
    "              xlabel='X-displacement (arbitrary units)', ylabel='Y-displacement (arbitrary units)', \n",
    "              fill_color_map='viridis', line_width=0.5, grid=False, add_colorbar=False, figsize=[5,5])\n"
   ]
  },
  {
   "cell_type": "markdown",
   "id": "cf25ad82-077e-471a-af66-cd107ffbba06",
   "metadata": {},
   "source": [
    "### Summary\n",
    "\n",
    "In this notebook, we explored how to create **contour plots** using `matplotlib`. Contour plots are a nice way to visualize 3D data in 2D space by representing lines of constant values. We used the following approaches:\n",
    "- **Filled Contours** using `plt.contourf()`.\n",
    "- **Labeled Contours** using `plt.contour()` and `plt.clabel()` for better clarity of the plot.\n",
    "- **Customizable Plot Properties**: including colormaps, axis labels, gridlines, color bars, and more.\n",
    "- **Reusable Function**: We created a function that encapsulates all these options, making it easier to reuse for different datasets.\n",
    "\n",
    "Additionally, you can make 3D plots using `plot_surface()` for visualizing data in true three dimensions. We might get to this later in the class.\n",
    "\n",
    "### Where to Learn More\n",
    "To dive deeper into contour and 3D plotting with `matplotlib`, check out the following resources:\n",
    "- **Matplotlib Documentation on Contour Plots**: [Contour and Filled Contour Plots](https://matplotlib.org/stable/gallery/images_contours_and_fields/contourf_demo.html)\n",
    "- **Matplotlib 3D Plotting Documentation**: [3D plotting in Matplotlib](https://matplotlib.org/stable/gallery/mplot3d/index.html)\n",
    "- **Numpy for Data Generation**: [Numpy Meshgrid and Linspace](https://numpy.org/doc/stable/reference/generated/numpy.meshgrid.html)\n",
    "\n",
    "The goal is to use these tools to create insightful figures to communicate your understanding of problems concisely. We'll continue to work on that throughout the class"
   ]
  },
  {
   "cell_type": "code",
   "execution_count": null,
   "id": "8d099163-7016-465c-9419-f86b837ec2d8",
   "metadata": {},
   "outputs": [],
   "source": []
  }
 ],
 "metadata": {
  "kernelspec": {
   "display_name": "Python 3 (ipykernel)",
   "language": "python",
   "name": "python3"
  },
  "language_info": {
   "codemirror_mode": {
    "name": "ipython",
    "version": 3
   },
   "file_extension": ".py",
   "mimetype": "text/x-python",
   "name": "python",
   "nbconvert_exporter": "python",
   "pygments_lexer": "ipython3",
   "version": "3.9.19"
  }
 },
 "nbformat": 4,
 "nbformat_minor": 5
}
