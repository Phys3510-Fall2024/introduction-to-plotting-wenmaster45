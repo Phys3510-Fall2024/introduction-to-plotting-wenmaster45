{
 "cells": [
  {
   "cell_type": "code",
   "execution_count": 1,
   "id": "0fcffcc0-938a-4143-b100-5d316df561c1",
   "metadata": {},
   "outputs": [],
   "source": [
    "import numpy as np\n",
    "import matplotlib.pyplot as plt\n",
    "from ipywidgets import interact, FloatSlider, fixed"
   ]
  },
  {
   "cell_type": "code",
   "execution_count": 2,
   "id": "8e2f0d22-0c97-4efe-a347-032a11e76cb6",
   "metadata": {},
   "outputs": [
    {
     "data": {
      "application/vnd.jupyter.widget-view+json": {
       "model_id": "0a5e57b39f7240918fb83b8ef726aa0f",
       "version_major": 2,
       "version_minor": 0
      },
      "text/plain": [
       "interactive(children=(FloatSlider(value=1.0, description='K1', max=10.0, min=0.1), FloatSlider(value=1.0, desc…"
      ]
     },
     "metadata": {},
     "output_type": "display_data"
    },
    {
     "data": {
      "text/plain": [
       "<function __main__.plot_energy(K1=1.0, K2=1.0, C=0.0)>"
      ]
     },
     "execution_count": 2,
     "metadata": {},
     "output_type": "execute_result"
    }
   ],
   "source": [
    "def energy(Q1, Q2, K1, K2, C):\n",
    "    return 0.5 * K1 * Q1**2 + 0.5 * K2 * Q2**2 + C * Q1 * Q2**2\n",
    "\n",
    "\n",
    "def plot_energy(K1=1.0, K2=1.0, C=0.0):\n",
    "    Q1 = np.linspace(-10, 10, 200)\n",
    "    Q2_fixed_values = [-5, -2, 0, 2, 5]  \n",
    "\n",
    "    \n",
    "    fig, axes = plt.subplots(1, 2, figsize=(12, 5))\n",
    "\n",
    "    \n",
    "    for Q2 in Q2_fixed_values:\n",
    "        U = energy(Q1, Q2, K1, K2, C)\n",
    "        axes[0].plot(Q1, U, label=f\"Q2={Q2}\")\n",
    "    axes[0].set_xlabel(\"Q1\")\n",
    "    axes[0].set_ylabel(\"U(Q1, Q2)\")\n",
    "    axes[0].set_title(\"Energy U(Q1, Q2) for Fixed Q2\")\n",
    "    axes[0].legend()\n",
    "    axes[0].grid(True)\n",
    "\n",
    "    \n",
    "    Q1_grid, Q2_grid = np.meshgrid(np.linspace(-10, 10, 100), np.linspace(-10, 10, 100))\n",
    "    U_grid = energy(Q1_grid, Q2_grid, K1, K2, C)\n",
    "    contour = axes[1].contour(Q1_grid, Q2_grid, U_grid, levels=50, cmap=\"viridis\")\n",
    "    fig.colorbar(contour, ax=axes[1], label=\"U(Q1, Q2)\")\n",
    "    axes[1].set_xlabel(\"Q1\")\n",
    "    axes[1].set_ylabel(\"Q2\")\n",
    "    axes[1].set_title(\"Energy Surface U(Q1, Q2)\")\n",
    "\n",
    "    plt.tight_layout()\n",
    "    plt.show()\n",
    "\n",
    "\n",
    "interact(\n",
    "    plot_energy,\n",
    "    K1=FloatSlider(value=1.0, min=0.1, max=10.0, step=0.1, description=\"K1\"),\n",
    "    K2=FloatSlider(value=1.0, min=0.1, max=10.0, step=0.1, description=\"K2\"),\n",
    "    C=FloatSlider(value=0.0, min=-5.0, max=10.0, step=0.1, description=\"C\")\n",
    ")\n"
   ]
  },
  {
   "cell_type": "markdown",
   "id": "12aa4b9f-360c-4651-a330-76390e3ad911",
   "metadata": {},
   "source": [
    "Questions:\n",
    "1. When C increases the lower energy contours start to level off around zero.\n",
    "2. The force on Q1 would depend on the direction of Q2, because Q2 is fixed.\n",
    "3. I think the influence would be that Q2 would drive the motion of Q1 to be higher that what is plotted.\n",
    "4. If Q1 is not in equalibrium then Q2 would most likely not be able to be at a fixed value.     "
   ]
  },
  {
   "cell_type": "code",
   "execution_count": null,
   "id": "5a0bf964-9f90-4492-8caa-6eef4683fb64",
   "metadata": {},
   "outputs": [],
   "source": []
  }
 ],
 "metadata": {
  "kernelspec": {
   "display_name": "Python 3 (ipykernel)",
   "language": "python",
   "name": "python3"
  },
  "language_info": {
   "codemirror_mode": {
    "name": "ipython",
    "version": 3
   },
   "file_extension": ".py",
   "mimetype": "text/x-python",
   "name": "python",
   "nbconvert_exporter": "python",
   "pygments_lexer": "ipython3",
   "version": "3.9.19"
  }
 },
 "nbformat": 4,
 "nbformat_minor": 5
}
