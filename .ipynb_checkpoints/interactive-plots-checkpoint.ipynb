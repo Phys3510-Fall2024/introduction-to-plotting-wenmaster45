{
 "cells": [
  {
   "cell_type": "markdown",
   "id": "60b2a82f-4b21-4cc5-bf10-b8d303027d06",
   "metadata": {},
   "source": [
    "## Using `ipywidgets` for Dynamic Contour Plot Customization\n",
    "\n",
    "In this notebook, we will learn how to dynamically generate and customize filled contour plots using `matplotlib` and `ipywidgets`. We will focus on plotting a specific mathematical function:\n",
    "\n",
    "\\[\n",
    "$f(q_1, q_2) = k_1 \\cdot q_1^2 + k_2 \\cdot q_2^2 + c \\cdot q_1 \\cdot q_2$\n",
    "\\]\n",
    "\n",
    "The user will be able to adjust the parameters $k_1$, $k_2$, and $c$, as well as the plot range and number of contours. We'll also add two red arrows to the plot, which are orthogonal and rotated by an angle $\\theta$.\n"
   ]
  },
  {
   "cell_type": "markdown",
   "id": "940b694e-0604-42cd-bbf8-768f8acf1d51",
   "metadata": {},
   "source": [
    "### Importing code libraries\n"
   ]
  },
  {
   "cell_type": "code",
   "execution_count": null,
   "id": "d7d47e2b-4a0b-46a1-b94e-799c770466b9",
   "metadata": {},
   "outputs": [],
   "source": [
    "import numpy as np\n",
    "import matplotlib.pyplot as plt\n",
    "from ipywidgets import interact, FloatSlider, IntSlider # import the interact function and the sliders we need for this environemtn"
   ]
  },
  {
   "cell_type": "markdown",
   "id": "c95df28d-439d-4f94-93a6-abef8db52373",
   "metadata": {},
   "source": [
    "### Defining the Function and Plot Environment\n",
    "\n",
    "We will define our mathematical function, set up the plot environment, and customize the plot size, axis labels, and other aesthetic features. In this section, we also set the range of the axes and contour properties such as linewidth and color.\n"
   ]
  },
  {
   "cell_type": "code",
   "execution_count": null,
   "id": "548e1d53-f520-421a-8065-681ede1518ca",
   "metadata": {},
   "outputs": [],
   "source": [
    "def plot_contour(k1=1, k2=1, c=0, theta=0, levels=10):\n",
    "    # define x,y min, max\n",
    "    x_min = -5\n",
    "    x_max = 5\n",
    "    y_min = -5\n",
    "    y_max = 5\n",
    "    \n",
    "    # Generate the grid\n",
    "    q1 = np.linspace(x_min, x_max, 400)\n",
    "    q2 = np.linspace(y_min, y_max, 400)\n",
    "    Q1, Q2 = np.meshgrid(q1, q2)\n",
    "\n",
    "    # Define the function\n",
    "    Z = k1 * Q1**2 + k2 * Q2**2 + c * Q1 * Q2\n",
    "\n",
    "    # Create the plot\n",
    "    plt.figure(figsize=(4, 4))\n",
    "    contour_filled = plt.contourf(Q1, Q2, Z, levels=levels, cmap='viridis')\n",
    "    contour_lines = plt.contour(Q1, Q2, Z, levels=levels, colors='black', linewidths=0.5)\n",
    "\n",
    "    # Add labels inline\n",
    "    # plt.clabel(contour_lines, inline=True, fontsize=8)\n",
    "\n",
    "    # Set axis labels and range\n",
    "    plt.xlabel('$q_1$', fontsize=12)\n",
    "    plt.ylabel('$q_2$', fontsize=12)\n",
    "    plt.xlim([x_min, x_max])\n",
    "    plt.ylim([y_min, y_max])\n",
    "\n",
    "    # Superimpose two orthogonal red arrows\n",
    "    arrow_length = 0.3*(y_max-y_min)  # Set a fixed length for the arrows\n",
    "    plt.arrow(0, 0, arrow_length * np.cos(2*np.pi*theta/360), arrow_length * np.sin(2*np.pi*theta/360),\n",
    "              color='red', head_width=0.2)\n",
    "    plt.arrow(0, 0, -arrow_length * np.sin(2*np.pi*theta/360), arrow_length * np.cos(2*np.pi*theta/360),\n",
    "              color='red', head_width=0.2)\n",
    "\n",
    "    # Display the plot\n",
    "    plt.show()\n"
   ]
  },
  {
   "cell_type": "markdown",
   "id": "a399b744-3dfb-4938-88bc-8e7a4add77c2",
   "metadata": {},
   "source": [
    "### Testing our plot function"
   ]
  },
  {
   "cell_type": "code",
   "execution_count": null,
   "id": "750292dd-1612-44f5-a003-fa02645b4bee",
   "metadata": {},
   "outputs": [],
   "source": [
    "plot_contour(1, 1, 1, 15, levels=10) # theta = 15 degrees"
   ]
  },
  {
   "cell_type": "markdown",
   "id": "6c2a5277-824e-420f-801f-56625d4c54ba",
   "metadata": {},
   "source": [
    "### Introduction to `ipywidgets`\n",
    "\n",
    "The `ipywidgets` library allows us to create interactive widgets for user control in Jupyter notebooks. Using `interact`, we can create dynamic sliders to change the values of parameters and observe how the plot responds to different settings in real-time.\n",
    "\n",
    "Next, we will apply these sliders to control the parameters $k_1$, $k_2$, and $c$, along with the angle $\\theta$ of the arrows and the range of the plot.\n"
   ]
  },
  {
   "cell_type": "code",
   "execution_count": null,
   "id": "67906614-5374-4c73-816c-aab46a458975",
   "metadata": {},
   "outputs": [],
   "source": [
    "interact(plot_contour,\n",
    "         k1=FloatSlider(min=-2, max=2, step=0.1, value=1, description='k1'),\n",
    "         k2=FloatSlider(min=-2, max=2, step=0.1, value=1, description='k2'),\n",
    "         c=FloatSlider(min=-2, max=2, step=0.1, value=0, description='c'),\n",
    "         theta=FloatSlider(min=0, max=360, step=1, value=0, description='Theta'),\n",
    "         levels=IntSlider(min=5, max=20, step=1, value=10, description='Levels')       \n",
    "        )\n",
    "\n",
    "plt.show()"
   ]
  },
  {
   "cell_type": "code",
   "execution_count": null,
   "id": "7264866e-fa76-4464-a36a-954a1b927b2d",
   "metadata": {},
   "outputs": [],
   "source": []
  }
 ],
 "metadata": {
  "kernelspec": {
   "display_name": "Python 3 (ipykernel)",
   "language": "python",
   "name": "python3"
  },
  "language_info": {
   "codemirror_mode": {
    "name": "ipython",
    "version": 3
   },
   "file_extension": ".py",
   "mimetype": "text/x-python",
   "name": "python",
   "nbconvert_exporter": "python",
   "pygments_lexer": "ipython3",
   "version": "3.9.19"
  }
 },
 "nbformat": 4,
 "nbformat_minor": 5
}
